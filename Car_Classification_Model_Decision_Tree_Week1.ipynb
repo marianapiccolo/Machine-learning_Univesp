{
 "cells": [
  {
   "cell_type": "markdown",
   "id": "64585fe5",
   "metadata": {},
   "source": [
    "## Classification Model using Decision Trees with Python\n",
    "\n",
    "In this exercise, I use the car ratings dataset to create a rating model using Decision Trees with Python. The data contains six attributes that are considered to classify cars into different levels of acceptability. \n",
    "\n",
    "### Steps:\n",
    "\n",
    "- Separate the data into training and testing. <br>\n",
    "- Plot the generated decision tree. <br>\n",
    "- Calculate the classification accuracy obtained by the generated model. <br>\n",
    "\n",
    "The dataset contains the attributes and their possible values described below, and is available at the link below:\n",
    "\n",
    "https://raw.githubusercontent.com/higoramario/univesp-com410-aprendizado-de-maquinas/main/carros-avaliacao.csv\n",
    "\n",
    "The dataset for this exercise is based on the Car Evaluation dataset, which is in:\n",
    "https://archive.ics.uci.edu/ml/datasets/Car+Evaluation\n",
    "\n",
    "\n",
    "### Attributes:\n",
    "Portuguese - English\n",
    "- preco - price: price of the car (muitoalto (very high), alta (high), média (medium), baixa (low)) <br>\n",
    "- manutencao - maintenance: maintenance price (muitoalto (very high), alto(high), médio (medium), baixo (low)) <br>\n",
    "- portas - doors: number of doors (2, 3, 4, 5more) <br>\n",
    "- pessoas - people: number of doors (2, 4, 5more) <br>\n",
    "- bagageiro - luggage compartment: luggage compartment size (large, medio (medium), pequeno (small)) <br>\n",
    "- seguranca security: car security (alta (high), media (medium), baixa (low)) <br>\n",
    "- aceitabilidade (atributo -alvo) - acceptability (target attribute): level of acceptability (inaceitavel (unacceptable), - - - - aceitavel (acceptable), bom (good), muito bom (very good))\n",
    "\n",
    "### Libraries \n",
    "Pandas <br>\n",
    "Matplotlib <br>\n",
    "Scikit-Learn"
   ]
  },
  {
   "cell_type": "markdown",
   "id": "c298b281",
   "metadata": {},
   "source": [
    "### Libraries"
   ]
  },
  {
   "cell_type": "code",
   "execution_count": null,
   "id": "f8cd3111",
   "metadata": {},
   "outputs": [],
   "source": [
    "import pandas as pd #\n",
    "\n",
    "import matplotlib.pyplot as plt\n",
    "\n",
    "from sklearn import tree # to use decision tree classifier\n",
    "\n",
    "from sklearn.tree import DecisionTreeClassifier, plot_tree # plot decision tree\n",
    "\n",
    "from sklearn.model_selection import train_test_split # split training and testing\n",
    "\n",
    "from sklearn.metrics import accuracy_score # check the accuracy\n",
    "\n",
    "import warnings\n",
    "\n",
    "warnings.simplefilter('ignore') # suppress all warnings"
   ]
  },
  {
   "cell_type": "markdown",
   "id": "1630540f",
   "metadata": {},
   "source": [
    "### Data"
   ]
  },
  {
   "cell_type": "code",
   "execution_count": null,
   "id": "f0ae6363",
   "metadata": {},
   "outputs": [],
   "source": [
    "url = 'https://raw.githubusercontent.com/higoramario/univesp-com410-aprendizado-de-maquinas/main/carros-avaliacao.csv'\n",
    "\n",
    "cars = pd.read_csv(url)\n",
    "\n",
    "cars.head()"
   ]
  },
  {
   "cell_type": "markdown",
   "id": "51ed9adc",
   "metadata": {},
   "source": [
    "### Transforming attributes into numbers for use in the Decision Tree."
   ]
  },
  {
   "cell_type": "code",
   "execution_count": null,
   "id": "18afde83",
   "metadata": {},
   "outputs": [],
   "source": [
    "cars['preco'] = cars['preco'].map({'muitoalto':3,'alto':2,'medio':1,'baixo':0})\n",
    "\n",
    "cars['manutencao'] = cars['manutencao'].map({'muitoalto':3,'alto':2,'medio':1,'baixo':0})\n",
    "\n",
    "cars['portas'] = cars['portas'].map({'2':2,'3':3,'4':4,'5mais':5})\n",
    "\n",
    "cars['pessoas'] = cars['pessoas'].map({'2':2,'4':4,'5mais':5})\n",
    "\n",
    "cars['bagageiro'] = cars['bagageiro'].map({'grande':2,'medio':1,'pequeno':0})\n",
    "\n",
    "cars['seguranca'] = cars['seguranca'].map({'alta':2,'media':1,'baixa':0})\n",
    "\n",
    "cars.head(10)"
   ]
  },
  {
   "cell_type": "markdown",
   "id": "89ea99b2",
   "metadata": {},
   "source": [
    "### Separating attributes and classes for training and testing."
   ]
  },
  {
   "cell_type": "code",
   "execution_count": null,
   "id": "0cc0799e",
   "metadata": {},
   "outputs": [],
   "source": [
    "attribute_names = ['preco','manutencao','portas','pessoas','bagageiro','seguranca']\n",
    "\n",
    "attributes = cars[attribute_names]\n",
    "\n",
    "classes = cars['aceitabilidade'] # target attribute"
   ]
  },
  {
   "cell_type": "markdown",
   "id": "6fa934d8",
   "metadata": {},
   "source": [
    "### Separating the dataset for training and testing."
   ]
  },
  {
   "cell_type": "code",
   "execution_count": null,
   "id": "a6c843ea",
   "metadata": {},
   "outputs": [],
   "source": [
    "#training_attributes, test_attributes, training_classes, test classes = train_test_split(attributes, classes, test_size=0.1, random_state=10)\n",
    "\n",
    "training_attributes, test_attributes, training_classes, test_classes = train_test_split(attributes, classes, test_size=0.1, random_state=10)"
   ]
  },
  {
   "cell_type": "markdown",
   "id": "eae30c23",
   "metadata": {},
   "source": [
    "### Creating the model"
   ]
  },
  {
   "cell_type": "code",
   "execution_count": null,
   "id": "0d4cdd1d",
   "metadata": {},
   "outputs": [],
   "source": [
    "tree = DecisionTreeClassifier()\n",
    "\n",
    "tree = tree.fit(training_attributes,training_classes)"
   ]
  },
  {
   "cell_type": "markdown",
   "id": "8b324548",
   "metadata": {},
   "source": [
    "### Plotting the decision tree in full size to be able to visualize in detail. In the Python notebook, click on the picture to toggle between the enlarged and reduced view."
   ]
  },
  {
   "cell_type": "code",
   "execution_count": null,
   "id": "c7150d56",
   "metadata": {},
   "outputs": [],
   "source": [
    "plt.figure(figsize=(300,160))\n",
    "\n",
    "plot_tree(tree, filled=True, rounded=True, feature_names=attribute_names)\n",
    "\n",
    "plt.show()"
   ]
  },
  {
   "cell_type": "markdown",
   "id": "1878107e",
   "metadata": {},
   "source": [
    "### Testing the perfect case where all values are as good as possible."
   ]
  },
  {
   "cell_type": "code",
   "execution_count": null,
   "id": "a600cb11",
   "metadata": {},
   "outputs": [],
   "source": [
    "print(tree.predict([[0,0,5,5,2,2]])) #very good"
   ]
  },
  {
   "cell_type": "markdown",
   "id": "fe85499a",
   "metadata": {},
   "source": [
    "### If security is low, it is classified as unacceptable."
   ]
  },
  {
   "cell_type": "code",
   "execution_count": null,
   "id": "376d3889",
   "metadata": {},
   "outputs": [],
   "source": [
    "print(tree.predict([[0,0,5,5,2,0]]))"
   ]
  },
  {
   "cell_type": "markdown",
   "id": "cd9b134b",
   "metadata": {},
   "source": [
    "### Checking classification accuracy."
   ]
  },
  {
   "cell_type": "code",
   "execution_count": null,
   "id": "1912c582",
   "metadata": {},
   "outputs": [],
   "source": [
    "classes_predict = tree.predict(test_attributes)\n",
    "\n",
    "accuracy = accuracy_score(test_classes,classes_predict)\n",
    "\n",
    "print('Classification accuracy: {}'.format(round(accuracy,3)*100)+'%')"
   ]
  },
  {
   "cell_type": "code",
   "execution_count": null,
   "id": "ec4aadc3",
   "metadata": {},
   "outputs": [],
   "source": []
  }
 ],
 "metadata": {
  "kernelspec": {
   "display_name": "Python 3 (ipykernel)",
   "language": "python",
   "name": "python3"
  },
  "language_info": {
   "codemirror_mode": {
    "name": "ipython",
    "version": 3
   },
   "file_extension": ".py",
   "mimetype": "text/x-python",
   "name": "python",
   "nbconvert_exporter": "python",
   "pygments_lexer": "ipython3",
   "version": "3.9.12"
  }
 },
 "nbformat": 4,
 "nbformat_minor": 5
}
