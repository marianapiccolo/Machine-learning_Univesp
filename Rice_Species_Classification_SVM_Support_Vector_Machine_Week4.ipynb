{
 "cells": [
  {
   "cell_type": "markdown",
   "id": "c9db0448",
   "metadata": {},
   "source": [
    "# SVM to classify rice species.\n",
    "\n",
    "Use SVM to classify rice species.<br>\n",
    "The dataset for this exercise contains traits for two species of rice.\n",
    " \n",
    "\n",
    "### Steps:<br>\n",
    "- Create the classifier using all attributes (except id and Class).<br>\n",
    "- Separate the data into training and testing.<br>\n",
    "- Scale down attribute values to speed up code execution.<br>\n",
    "- Use polynomial kernel function.<br>\n",
    "- Check the accuracy of the classifier.<br>\n",
    "- Re-create the classifier, now using two attributes (eg Area and MajorAxisLength) using the linear, polynomial and sigmoidal kernel functions.<br>\n",
    "- Repeat steps 2 and 3.<br>\n",
    "- Check the accuracy of the classifiers.<br>\n",
    "- Plot the results obtained.<br>\n",
    "- What was the best performance you got?<br>\n",
    "\n",
    "The dataset contains the attributes described below, and is available at the link below:\n",
    "\n",
    "https://raw.githubusercontent.com/higoramario/univesp-com410-aprendizado-de-maquinas/main/rice-classification.csv\n",
    "\n",
    "The dataset for this exercise is based on the Rice type classification dataset, which is at:\n",
    "https://www.kaggle.com/datasets/mssmartypants/rice-type-classification\n",
    "\n",
    "### Attributes:\n",
    "\n",
    "- id: object identifier<br>\n",
    "- Area: grain area<br>\n",
    "- MajorAxisLength: size of the major axis<br>\n",
    "- MinorAxisLength: minor axis size<br>\n",
    "- Eccentricity: eccentricity<br>\n",
    "- ConvexArea: convex area<br>\n",
    "- EquivDiameter: equivalent diameter<br>\n",
    "- extension: extension<br>\n",
    "- perimeter: perimeter<br>\n",
    "- roundness: roundness<br>\n",
    "- AspectRation: aspect ratio<br>\n",
    "- Class (target attribute): rice type (1 - Jasmine, 0 - Gonen)<br>\n",
    "\n",
    "### Libraries: \n",
    "scikit-learn<br>\n",
    "pandas<br>\n",
    "numpym<br>\n",
    "matplotlib<br>"
   ]
  },
  {
   "cell_type": "markdown",
   "id": "67520066",
   "metadata": {},
   "source": [
    "### 1. Libraries"
   ]
  },
  {
   "cell_type": "code",
   "execution_count": null,
   "id": "7a240100",
   "metadata": {},
   "outputs": [],
   "source": [
    "import pandas as pd\n",
    "import numpy as np\n",
    "import matplotlib.pyplot as plt\n",
    "from matplotlib.colors import ListedColormap\n",
    "from sklearn.model_selection import train_test_split\n",
    "from sklearn.svm import SVC\n",
    "from sklearn.metrics import accuracy_score\n",
    "from sklearn.preprocessing import StandardScaler\n",
    "plt.rcParams['figure.figsize']=[15,10]"
   ]
  },
  {
   "cell_type": "markdown",
   "id": "f9a084aa",
   "metadata": {},
   "source": [
    "### 2. Data"
   ]
  },
  {
   "cell_type": "code",
   "execution_count": null,
   "id": "9c090db7",
   "metadata": {},
   "outputs": [],
   "source": [
    "url = 'https://raw.githubusercontent.com/higoramario/univesp-com410-aprendizado-de-maquinas/main/rice-classification.csv'\n",
    "rice = pd.read_csv(url, sep=',')\n",
    "rice.head()"
   ]
  },
  {
   "cell_type": "markdown",
   "id": "63129c41",
   "metadata": {},
   "source": [
    "### 3. Class attribute distribution."
   ]
  },
  {
   "cell_type": "code",
   "execution_count": null,
   "id": "a5b29173",
   "metadata": {},
   "outputs": [],
   "source": [
    "rice['Class'].plot.hist()\n",
    "plt.show()"
   ]
  },
  {
   "cell_type": "markdown",
   "id": "e20afe34",
   "metadata": {},
   "source": [
    "### 4. Selecting all attributes"
   ]
  },
  {
   "cell_type": "code",
   "execution_count": null,
   "id": "f1c67407",
   "metadata": {},
   "outputs": [],
   "source": [
    "all_attributes = rice[['Area','MajorAxisLength','MinorAxisLength','Eccentricity','ConvexArea','EquivDiameter','Extent','Perimeter','Roundness','AspectRation']]\n",
    "\n",
    "classes = rice['Class']"
   ]
  },
  {
   "cell_type": "markdown",
   "id": "03434d9f",
   "metadata": {},
   "source": [
    "### 5. Dividing the data between training (90%) and testing (10%)."
   ]
  },
  {
   "cell_type": "code",
   "execution_count": null,
   "id": "4a1ad021",
   "metadata": {},
   "outputs": [],
   "source": [
    "training_all_rice, testing_all_rice, classes_treining_all, classes_testing_all = train_test_split(all_attributes, classes, test_size = 0.1)"
   ]
  },
  {
   "cell_type": "markdown",
   "id": "9f5bd225",
   "metadata": {},
   "source": [
    "### 6. Scaling the data to speed up the execution of model training and of the graphing the visualization of the results."
   ]
  },
  {
   "cell_type": "code",
   "execution_count": null,
   "id": "27e52a80",
   "metadata": {},
   "outputs": [],
   "source": [
    "scaler = StandardScaler()\n",
    "training_all_rice = scaler.fit_transform(training_all_rice)\n",
    "testing_all_rice = scaler.transform(testing_all_rice)"
   ]
  },
  {
   "cell_type": "markdown",
   "id": "c24b7903",
   "metadata": {},
   "source": [
    "### 7. Training the model to generate the classifier using the polynomial kernel function.\n",
    "\n",
    "The following kernel function parameters can be used to enhance the model:\n",
    "\n",
    "C: determines whether the margin will be tighter (big C) or wider (small C)\n",
    "\n",
    "gamma: tuning parameter for polynomial and sigmoidal functions\n",
    "\n",
    "coef0: kappa parameter, constant used in polynomial and sigmoidal functions\n",
    "\n",
    "degree: degree of the polynomial function"
   ]
  },
  {
   "cell_type": "code",
   "execution_count": null,
   "id": "20e6a23d",
   "metadata": {},
   "outputs": [],
   "source": [
    "SVM_polynomial_all = SVC(kernel = 'poly', degree = 3, gamma = 'scale', C = 1.0, coef0 = 2)\n",
    "\n",
    "SVM_polynomial_all.fit(training_all_rice, classes_treining_all)"
   ]
  },
  {
   "cell_type": "markdown",
   "id": "fe1c051e",
   "metadata": {},
   "source": [
    "### 8. Checking the classification accuracy, whose value may vary depending on the set used in training."
   ]
  },
  {
   "cell_type": "code",
   "execution_count": null,
   "id": "6907fa6b",
   "metadata": {},
   "outputs": [],
   "source": [
    "predict_all = SVM_polynomial_all.predict(testing_all_rice)\n",
    "\n",
    "accuracy_all = accuracy_score(classes_testing_all,predict_all)\n",
    "\n",
    "print('Classification accuracy with all attributes: {}'.format(round(accuracy_all,3)*100)+'%')"
   ]
  },
  {
   "cell_type": "markdown",
   "id": "e053bef0",
   "metadata": {},
   "source": [
    "### 9. Creating a new set with just two attributes to plot the results."
   ]
  },
  {
   "cell_type": "code",
   "execution_count": null,
   "id": "455b03cc",
   "metadata": {},
   "outputs": [],
   "source": [
    "attributes = rice[['Area','MajorAxisLength']]\n",
    "\n",
    "classes = rice['Class']"
   ]
  },
  {
   "cell_type": "markdown",
   "id": "6efce1f0",
   "metadata": {},
   "source": [
    "### 10. Separating the set into training and testing."
   ]
  },
  {
   "cell_type": "code",
   "execution_count": null,
   "id": "b73d30f2",
   "metadata": {},
   "outputs": [],
   "source": [
    "training_rice, testing_rice, classes_training, classes_testing = train_test_split(attributes, classes, test_size = 0.1)"
   ]
  },
  {
   "cell_type": "markdown",
   "id": "27d31a36",
   "metadata": {},
   "source": [
    "### 11. Scaling the data to speed up the execution of model training and the generation of the visualization graph of the results."
   ]
  },
  {
   "cell_type": "code",
   "execution_count": null,
   "id": "af3870fd",
   "metadata": {},
   "outputs": [],
   "source": [
    "scaler = StandardScaler()\n",
    "\n",
    "training_rice = scaler.fit_transform(training_rice)\n",
    "\n",
    "testing_rice = scaler.transform(testing_rice)"
   ]
  },
  {
   "cell_type": "markdown",
   "id": "41da2358",
   "metadata": {},
   "source": [
    "### 12. Generating the linear classifier."
   ]
  },
  {
   "cell_type": "code",
   "execution_count": null,
   "id": "216f5dcf",
   "metadata": {},
   "outputs": [],
   "source": [
    "SVM_linear = SVC(kernel = 'linear', C = 0.2)\n",
    "\n",
    "SVM_linear.fit(training_rice, classes_training)"
   ]
  },
  {
   "cell_type": "markdown",
   "id": "cec32266",
   "metadata": {},
   "source": [
    "### 13. Checking classification accuracy."
   ]
  },
  {
   "cell_type": "code",
   "execution_count": null,
   "id": "6ceb9802",
   "metadata": {},
   "outputs": [],
   "source": [
    "linear_prediction = SVM_linear.predict(testing_rice)\n",
    "\n",
    "linear_accuracy = accuracy_score(classes_testing,linear_prediction)\n",
    "\n",
    "print('Linear SVM classification accuracy with two attributes: {}'.format(round(linear_accuracy,3)*100)+'%')"
   ]
  },
  {
   "cell_type": "markdown",
   "id": "8d427588",
   "metadata": {},
   "source": [
    "### 14. Ploting the result looking at how the model ranks the test set. \n",
    "### - Create a function that uses the functions meshgrid from numpy, which creates a rectangular grid, and contourf from matplotlib, which allows you to create lines and fill areas with colors."
   ]
  },
  {
   "cell_type": "code",
   "execution_count": null,
   "id": "3b22e315",
   "metadata": {},
   "outputs": [],
   "source": [
    "# function that receives the attributes and classes of the test set, the SVM classifier and plots the results.\n",
    "\n",
    "def viewSVM(t_attributes,classes_t,classifier):\n",
    "    attributes, classes = t_attributes, classes_t\n",
    "\n",
    "    year, salary = np.meshgrid(np.arange(start = attributes[:, 0].min() - 1, stop = attributes[:, 0].max() + 1, step = 0.01),\n",
    "    np.arange(start = attributes[:, 1].min() - 1, stop = attributes[:, 1].max() + 1, step = 0.01))\n",
    "\n",
    "    plt.contourf(year, salary, classifier.predict(np.array([year.ravel(), salary.ravel()]).T).reshape(year.shape),\n",
    "    alpha = 0.75, cmap = ListedColormap(('red', 'green')))\n",
    "\n",
    "    plt.xlim(year.min(), year.max())\n",
    "\n",
    "    plt.ylim(salary.min(), salary.max())\n",
    "\n",
    "\n",
    "\n",
    "    for i, j in enumerate(np.unique(classes)):\n",
    "\n",
    "        plt.scatter(attributes[classes == j, 0], attributes[classes == j, 1],\n",
    "\n",
    "        color = ListedColormap(('red', 'green'))(i), label = j)\n",
    "\n",
    "\n",
    "\n",
    "        plt.title('SVM rating')\n",
    "\n",
    "        plt.xlabel('Year')\n",
    "\n",
    "        plt.ylabel('Estimated salary')\n",
    "\n",
    "        plt.legend()\n",
    "\n",
    "        plt.show()"
   ]
  },
  {
   "cell_type": "markdown",
   "id": "1930e1d0",
   "metadata": {},
   "source": [
    "### Ploting the linear classifier."
   ]
  },
  {
   "cell_type": "code",
   "execution_count": null,
   "id": "19617de2",
   "metadata": {},
   "outputs": [],
   "source": [
    "viewSVM(testing_rice, classes_testing, SVM_linear)"
   ]
  },
  {
   "cell_type": "markdown",
   "id": "787cb26d",
   "metadata": {},
   "source": [
    "### 16. Train the model to generate the classifier using the polynomial kernel function."
   ]
  },
  {
   "cell_type": "code",
   "execution_count": null,
   "id": "82895dfe",
   "metadata": {},
   "outputs": [],
   "source": [
    "SVM_polynomial = SVC(kernel = 'poly', degree = 3, gamma = 'scale', C = 1.0, coef0 = 2)\n",
    "SVM_polynomial.fit(training_rice, classes_training)"
   ]
  },
  {
   "cell_type": "markdown",
   "id": "d0012b77",
   "metadata": {},
   "source": [
    "### 17. Checking the classification accuracy of the polynomial SVM."
   ]
  },
  {
   "cell_type": "code",
   "execution_count": null,
   "id": "c9e07851",
   "metadata": {},
   "outputs": [],
   "source": [
    "poly_prediction = SVM_polynomial.predict(testing_rice)\n",
    "poly_accuracy = accuracy_score(classes_testing,poly_prediction)\n",
    "print('Classification accuracy of polynomial SVM with two attributes: {}'.format(round(poly_accuracy,3)*100)+'%')"
   ]
  },
  {
   "cell_type": "markdown",
   "id": "635b8b09",
   "metadata": {},
   "source": [
    "### 18. Plot the classifier using the polynomial function."
   ]
  },
  {
   "cell_type": "code",
   "execution_count": null,
   "id": "45442dbe",
   "metadata": {},
   "outputs": [],
   "source": [
    "viewSVM(testing_rice, classes_testing, SVM_polynomial)"
   ]
  },
  {
   "cell_type": "markdown",
   "id": "78ddb232",
   "metadata": {},
   "source": [
    "### 19. Plot the classifier using the polynomial function."
   ]
  },
  {
   "cell_type": "code",
   "execution_count": null,
   "id": "483aea1e",
   "metadata": {},
   "outputs": [],
   "source": [
    "SVM_sigmoidal = SVC(kernel = 'sigmoid', gamma = 'scale', C = 2, coef0 = 2)\n",
    "SVM_sigmoidal.fit(training_rice, classes_training)"
   ]
  },
  {
   "cell_type": "markdown",
   "id": "f211a3d2",
   "metadata": {},
   "source": [
    "### 20. Checking the classification accuracy of the sigmoidal SVM."
   ]
  },
  {
   "cell_type": "code",
   "execution_count": null,
   "id": "fe375526",
   "metadata": {},
   "outputs": [],
   "source": [
    "sigmoidal_prediction = SVM_sigmoidal.predict(testing_rice)\n",
    "sigmoidal_accuracy = accuracy_score(classes_testing,sigmoidal_prediction)\n",
    "\n",
    "print('Acurácia de classificação da SVM polinomial com dois atributos: {}'.format(round(sigmoidal_accuracy,3)*100)+'%')"
   ]
  },
  {
   "cell_type": "markdown",
   "id": "81f95167",
   "metadata": {},
   "source": [
    "### 21. Plotar o classificador que usa a função sigmoidal."
   ]
  },
  {
   "cell_type": "code",
   "execution_count": null,
   "id": "a14584aa",
   "metadata": {},
   "outputs": [],
   "source": [
    "viewSVM(testing_rice, classes_testing, SVM_sigmoidal)"
   ]
  },
  {
   "cell_type": "markdown",
   "id": "7e8454e1",
   "metadata": {},
   "source": [
    "### Conclusion"
   ]
  },
  {
   "cell_type": "markdown",
   "id": "5cb42c7e",
   "metadata": {},
   "source": [
    "The results show that the generated classifiers perform well for this dataset, even when we use only two of the attributes. The sigmoidal kernel function has an accuracy a little lower than the others, and also takes longer to execute."
   ]
  }
 ],
 "metadata": {
  "kernelspec": {
   "display_name": "Python 3 (ipykernel)",
   "language": "python",
   "name": "python3"
  },
  "language_info": {
   "codemirror_mode": {
    "name": "ipython",
    "version": 3
   },
   "file_extension": ".py",
   "mimetype": "text/x-python",
   "name": "python",
   "nbconvert_exporter": "python",
   "pygments_lexer": "ipython3",
   "version": "3.9.12"
  }
 },
 "nbformat": 4,
 "nbformat_minor": 5
}
